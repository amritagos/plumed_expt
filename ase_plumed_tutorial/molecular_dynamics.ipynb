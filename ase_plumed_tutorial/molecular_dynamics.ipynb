{
 "cells": [
  {
   "cell_type": "code",
   "execution_count": 33,
   "metadata": {},
   "outputs": [],
   "source": [
    "from ase.calculators.lj import LennardJones\n",
    "from ase.calculators.plumed import Plumed\n",
    "from ase.constraints import FixedPlane\n",
    "from ase.md.langevin import Langevin\n",
    "from ase.io import read\n",
    "from ase import units"
   ]
  },
  {
   "cell_type": "code",
   "execution_count": 50,
   "metadata": {},
   "outputs": [],
   "source": [
    "# Tutorial from https://gitlab.com/Sucerquia/ase-plumed_tutorial\n",
    "timestep = 0.005\n",
    "ps = 1000 * units.fs \n",
    "\n",
    "setup = [f\"UNITS LENGTH=A TIME={1/ps} ENERGY={units.mol/units.kJ}\",\n",
    "         \"c1: COORDINATIONNUMBER SPECIES=1-7 MOMENTS=2-3\" +\n",
    "         \" SWITCH={RATIONAL R_0=1.5 NN=8 MM=16}\",\n",
    "         \"PRINT ARG=c1.* STRIDE=10 FILE=COLVAR\",\n",
    "         \"FLUSH STRIDE=100\"]\n"
   ]
  },
  {
   "cell_type": "code",
   "execution_count": 54,
   "metadata": {},
   "outputs": [
    {
     "ename": "SyntaxError",
     "evalue": "keyword argument repeated: atoms (1785001900.py, line 27)",
     "output_type": "error",
     "traceback": [
      "\u001b[0;36m  Cell \u001b[0;32mIn[54], line 27\u001b[0;36m\u001b[0m\n\u001b[0;31m    atoms=atoms,\u001b[0m\n\u001b[0m    ^\u001b[0m\n\u001b[0;31mSyntaxError\u001b[0m\u001b[0;31m:\u001b[0m keyword argument repeated: atoms\n"
     ]
    }
   ],
   "source": [
    "from ase.calculators.lj import LennardJones\n",
    "from ase.calculators.plumed import Plumed\n",
    "from ase.constraints import FixedPlane\n",
    "from ase.md.langevin import Langevin\n",
    "from ase.io import read\n",
    "from ase import units\n",
    "\n",
    "\n",
    "timestep = 0.005\n",
    "\n",
    "ps = 1000 * units.fs\n",
    "setup = [f\"UNITS LENGTH=A TIME={1/ps} ENERGY={units.mol/units.kJ}\",\n",
    "         \"c1: COORDINATIONNUMBER SPECIES=1-7 MOMENTS=2-3\" +\n",
    "         \" SWITCH={RATIONAL R_0=1.5 NN=8 MM=16}\",\n",
    "         \"PRINT ARG=c1.* STRIDE=100 FILE=COLVAR\",\n",
    "         \"FLUSH STRIDE=1000\"]\n",
    "\n",
    "atoms = read('isomerLJ.xyz')\n",
    "# Constraint to keep the system in a plane\n",
    "cons = [FixedPlane(i, [0, 0, 1]) for i in range(7)]\n",
    "atoms.set_constraint(cons)\n",
    "atoms.set_masses([1, 1, 1, 1, 1, 1, 1])\n",
    "\n",
    "atoms.calc = Plumed(calc=LennardJones(rc=2.5, r0=3.),\n",
    "                    input=setup,\n",
    "                    timestep=timestep,\n",
    "                    atoms=atoms,\n",
    "                    kT=0.1)\n",
    "\n",
    "dyn = Langevin(atoms, timestep, temperature_K=0.1/units.kB, friction=1,\n",
    "               fixcm=False, trajectory='UnbiasMD.traj')\n",
    "\n",
    "dyn.run(1000)"
   ]
  },
  {
   "cell_type": "code",
   "execution_count": 40,
   "metadata": {},
   "outputs": [
    {
     "name": "stdout",
     "output_type": "stream",
     "text": [
      "PLUMED:                                               Cycles        Total      Average      Minumum      Maximum\n",
      "PLUMED:                                                    1     0.001814     0.001814     0.001814     0.001814\n",
      "PLUMED: 1 Prepare dependencies                           101     0.000063     0.000001     0.000000     0.000005\n",
      "PLUMED: 2 Sharing data                                     2     0.000021     0.000011     0.000007     0.000014\n",
      "PLUMED: 3 Waiting for data                                 2     0.000001     0.000001     0.000001     0.000001\n",
      "PLUMED: 4 Calculating (forward loop)                       2     0.000093     0.000046     0.000035     0.000057\n",
      "PLUMED: 5 Applying (backward loop)                         2     0.000005     0.000003     0.000001     0.000004\n",
      "PLUMED: 6 Update                                           2     0.000076     0.000038     0.000010     0.000066\n"
     ]
    }
   ],
   "source": [
    "\n",
    "from ase.calculators.idealgas import IdealGas\n",
    "from ase.calculators.plumed import Plumed\n",
    "from ase.io import read, write\n",
    "from ase import units\n",
    "\n",
    "\n",
    "traj = read('UnbiasMD.traj', index=':')\n",
    "\n",
    "atoms = traj[0]\n",
    "\n",
    "write(\"final.xyz\", atoms)\n",
    "\n",
    "# timestep = 0.005\n",
    "# ps = 1000 * units.fs\n",
    "# setup = [f\"UNITS LENGTH=A TIME={1/ps} ENERGY={units.mol/units.kJ}\",\n",
    "#          \"c1: COORDINATIONNUMBER SPECIES=1-7 MOMENTS=2-3\" +\n",
    "#          \" SWITCH={RATIONAL R_0=1.5 NN=8 MM=16}\",\n",
    "#          \"PRINT ARG=c1.* STRIDE=100 FILE=COLVAR\",\n",
    "#          \"FLUSH STRIDE=1000\"]\n",
    "\n",
    "# calc = Plumed(calc=IdealGas(),\n",
    "#               input=setup,\n",
    "#               timestep=timestep,\n",
    "#               atoms=atoms,\n",
    "#               kT=0.1)\n",
    "\n",
    "# calc.write_plumed_files(traj)\n",
    "\n"
   ]
  },
  {
   "cell_type": "code",
   "execution_count": 46,
   "metadata": {},
   "outputs": [
    {
     "name": "stdout",
     "output_type": "stream",
     "text": [
      "scm=np.float64(0.7579543969314642)\n",
      "tcm=np.float64(1.335796192475372)\n"
     ]
    }
   ],
   "source": [
    "import numpy as np \n",
    "\n",
    "def coordination_numbers(atoms, d=1.5):\n",
    "    cn = np.zeros(len(atoms))\n",
    "    for i,atom_i in enumerate(atoms):\n",
    "        cn[i] = 0\n",
    "        for atom_j in atoms:\n",
    "            if atom_i.index==atom_j.index:\n",
    "                continue\n",
    "            r_ij = atoms.get_distance(atom_i.index, atom_j.index, mic=False)\n",
    "            cn[i] += (1-(r_ij/d)**8)/(1-(r_ij/d)**16)\n",
    "    return cn\n",
    "\n",
    "def moment(atoms, order, coordination_numbers):\n",
    "    n_atoms = len(atoms)\n",
    "    coord_num_exp = np.mean(coordination_numbers)\n",
    "    moment = 0.0\n",
    "\n",
    "    for i in range(n_atoms):\n",
    "        moment += (coordination_numbers[i] - coord_num_exp)**order\n",
    "    return moment/n_atoms\n",
    "\n",
    "coord_num_val = coordination_numbers(atoms)\n",
    "scm = moment(atoms, 2, coord_num_val)\n",
    "tcm = moment(atoms, 3, coord_num_val)\n",
    "print(f\"{scm=}\")\n",
    "print(f\"{tcm=}\")"
   ]
  }
 ],
 "metadata": {
  "kernelspec": {
   "display_name": "Python 3",
   "language": "python",
   "name": "python3"
  },
  "language_info": {
   "codemirror_mode": {
    "name": "ipython",
    "version": 3
   },
   "file_extension": ".py",
   "mimetype": "text/x-python",
   "name": "python",
   "nbconvert_exporter": "python",
   "pygments_lexer": "ipython3",
   "version": "3.13.0"
  }
 },
 "nbformat": 4,
 "nbformat_minor": 2
}
