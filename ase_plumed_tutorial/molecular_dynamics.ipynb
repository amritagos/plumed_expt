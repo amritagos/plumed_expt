{
 "cells": [
  {
   "cell_type": "code",
   "execution_count": 97,
   "metadata": {},
   "outputs": [],
   "source": [
    "from ase.calculators.lj import LennardJones\n",
    "from ase.calculators.plumed import Plumed\n",
    "from ase.constraints import FixedPlane\n",
    "from ase.md.langevin import Langevin\n",
    "from ase.io import read\n",
    "from ase import units"
   ]
  },
  {
   "cell_type": "code",
   "execution_count": 98,
   "metadata": {},
   "outputs": [],
   "source": [
    "# Tutorial from https://gitlab.com/Sucerquia/ase-plumed_tutorial\n",
    "timestep = 0.005\n",
    "ps = 1000 * units.fs \n",
    "\n",
    "setup = [f\"UNITS LENGTH=A TIME={1/ps} ENERGY={units.mol/units.kJ}\",\n",
    "         \"c1: COORDINATIONNUMBER SPECIES=1-7 MOMENTS=2-3\" +\n",
    "         \" SWITCH={RATIONAL R_0=1.5 NN=8 MM=16}\",\n",
    "         \"PRINT ARG=c1.* STRIDE=10 FILE=COLVAR\",\n",
    "         \"FLUSH STRIDE=100\"]\n"
   ]
  },
  {
   "cell_type": "code",
   "execution_count": 99,
   "metadata": {},
   "outputs": [
    {
     "name": "stderr",
     "output_type": "stream",
     "text": [
      "+++ Loading the PLUMED kernel runtime +++\n",
      "+++ PLUMED_KERNEL=\"/home/amritagos/micromamba/envs/plumedenv/lib/libplumedKernel.so\" +++\n"
     ]
    },
    {
     "name": "stdout",
     "output_type": "stream",
     "text": [
      "PLUMED: PLUMED is starting\n",
      "PLUMED: Version: 2.9.2 (git: Unknown) compiled on Sep  4 2024 at 12:23:39\n",
      "PLUMED: Please cite these papers when using PLUMED [1][2]\n",
      "PLUMED: For further information see the PLUMED web page at http://www.plumed.org\n",
      "PLUMED: Root: /home/amritagos/micromamba/envs/plumedenv/lib/plumed\n",
      "PLUMED: For installed feature, see /home/amritagos/micromamba/envs/plumedenv/lib/plumed/src/config/config.txt\n",
      "PLUMED: Molecular dynamics engine: ASE\n",
      "PLUMED: Precision of reals: 8\n",
      "PLUMED: Running over 1 node\n",
      "PLUMED: Number of threads: 1\n",
      "PLUMED: Cache line size: 512\n",
      "PLUMED: Number of atoms: 7\n",
      "PLUMED: File suffix: \n",
      "PLUMED: Timestep: 0.000051\n",
      "PLUMED: KbT: 9.648533\n",
      "PLUMED: Relevant bibliography:\n",
      "PLUMED:   [1] The PLUMED consortium, Nat. Methods 16, 670 (2019)\n",
      "PLUMED:   [2] Tribello, Bonomi, Branduardi, Camilloni, and Bussi, Comput. Phys. Commun. 185, 604 (2014)\n",
      "PLUMED: Please read and cite where appropriate!\n",
      "PLUMED: Finished setup\n",
      "PLUMED: Action UNITS\n",
      "PLUMED:   with label @0\n",
      "PLUMED:   length: A = 0.1 nm\n",
      "PLUMED:   energy: 96.4853 kj/mol\n",
      "PLUMED:   time: 0.0101805 ps\n",
      "PLUMED:   charge: e\n",
      "PLUMED:   mass: amu\n",
      "PLUMED:   using physical units\n",
      "PLUMED:   inside PLUMED, Boltzmann constant is 8.61733e-05\n",
      "PLUMED: Action COORDINATIONNUMBER\n",
      "PLUMED:   with label c1\n",
      "PLUMED:   coordination of central atom and those within 1.5.  Using rational switching function with parameters d0=0 nn=8 mm=16\n",
      "PLUMED:   keyword SPECIES takes atoms : 1 2 3 4 5 6 7 \n",
      "PLUMED:   added component to this action:  c1.moment-2 \n",
      "PLUMED:   added component to this action:  c1.moment-3 \n",
      "PLUMED:   value c1.moment-2 contains the 2th moment of the distribution\n",
      "PLUMED:   value c1.moment-3 contains the 3th moment of the distribution\n",
      "PLUMED: Action PRINT\n",
      "PLUMED:   with label @2\n",
      "PLUMED:   with stride 100\n",
      "PLUMED:   with arguments c1.moment-2 c1.moment-3\n",
      "PLUMED:   on file COLVAR\n",
      "PLUMED:   with format  %f\n",
      "PLUMED: Action FLUSH\n",
      "PLUMED:   with label @3\n",
      "PLUMED:   with stride 1000\n"
     ]
    },
    {
     "data": {
      "text/plain": [
       "True"
      ]
     },
     "execution_count": 99,
     "metadata": {},
     "output_type": "execute_result"
    }
   ],
   "source": [
    "from ase.calculators.lj import LennardJones\n",
    "from ase.calculators.plumed import Plumed\n",
    "from ase.constraints import FixedPlane\n",
    "from ase.md.langevin import Langevin\n",
    "from ase.io import read\n",
    "from ase import units\n",
    "\n",
    "\n",
    "timestep = 0.005\n",
    "\n",
    "ps = 1000 * units.fs\n",
    "setup = [f\"UNITS LENGTH=A TIME={1/ps} ENERGY={units.mol/units.kJ}\",\n",
    "         \"c1: COORDINATIONNUMBER SPECIES=1-7 MOMENTS=2-3\" +\n",
    "         \" SWITCH={RATIONAL R_0=1.5 NN=8 MM=16}\",\n",
    "         \"PRINT ARG=c1.* STRIDE=100 FILE=COLVAR\",\n",
    "         \"FLUSH STRIDE=1000\"]\n",
    "\n",
    "atoms = read('../resources/isomerLJ.xyz')\n",
    "# Constraint to keep the system in a plane\n",
    "cons = [FixedPlane(i, [0, 0, 1]) for i in range(7)]\n",
    "atoms.set_constraint(cons)\n",
    "atoms.set_masses([1, 1, 1, 1, 1, 1, 1])\n",
    "\n",
    "atoms.calc = Plumed(calc=LennardJones(rc=2.5, r0=3.),\n",
    "                    input=setup,\n",
    "                    timestep=timestep,\n",
    "                    atoms=atoms,\n",
    "                    kT=0.1)\n",
    "\n",
    "dyn = Langevin(atoms, timestep, temperature_K=0.1/units.kB, friction=1,\n",
    "               fixcm=False, trajectory='UnbiasMD.traj')\n",
    "\n",
    "dyn.run(1000)"
   ]
  },
  {
   "cell_type": "code",
   "execution_count": 100,
   "metadata": {},
   "outputs": [
    {
     "name": "stdout",
     "output_type": "stream",
     "text": [
      "scm=0.7372814604970135\n",
      "tcm=1.2630076455198833\n"
     ]
    }
   ],
   "source": [
    "import numpy as np \n",
    "\n",
    "def coordination_numbers(atoms, d=1.5):\n",
    "    cn = np.zeros(len(atoms))\n",
    "    for i,atom_i in enumerate(atoms):\n",
    "        cn[i] = 0\n",
    "        for atom_j in atoms:\n",
    "            if atom_i.index==atom_j.index:\n",
    "                continue\n",
    "            r_ij = atoms.get_distance(atom_i.index, atom_j.index, mic=False)\n",
    "            cn[i] += (1-(r_ij/d)**8)/(1-(r_ij/d)**16)\n",
    "    return cn\n",
    "\n",
    "def moment(atoms, order, coordination_numbers):\n",
    "    n_atoms = len(atoms)\n",
    "    coord_num_exp = np.mean(coordination_numbers)\n",
    "    moment = 0.0\n",
    "\n",
    "    for i in range(n_atoms):\n",
    "        moment += (coordination_numbers[i] - coord_num_exp)**order\n",
    "    return moment/n_atoms\n",
    "\n",
    "coord_num_val = coordination_numbers(atoms)\n",
    "scm = moment(atoms, 2, coord_num_val)\n",
    "tcm = moment(atoms, 3, coord_num_val)\n",
    "print(f\"{scm=}\")\n",
    "print(f\"{tcm=}\")"
   ]
  },
  {
   "cell_type": "code",
   "execution_count": 101,
   "metadata": {},
   "outputs": [
    {
     "name": "stdout",
     "output_type": "stream",
     "text": [
      "PLUMED:                                               Cycles        Total      Average      Minimum      Maximum\n",
      "PLUMED:                                                    1     0.007462     0.007462     0.007462     0.007462\n",
      "PLUMED: 1 Prepare dependencies                          1001     0.000537     0.000001     0.000000     0.000008\n",
      "PLUMED: 2 Sharing data                                    11     0.000079     0.000007     0.000006     0.000009\n",
      "PLUMED: 3 Waiting for data                                11     0.000008     0.000001     0.000000     0.000001\n",
      "PLUMED: 4 Calculating (forward loop)                      11     0.000319     0.000029     0.000024     0.000037\n",
      "PLUMED: 5 Applying (backward loop)                        11     0.000023     0.000002     0.000002     0.000003\n",
      "PLUMED: 6 Update                                          11     0.000167     0.000015     0.000008     0.000059\n"
     ]
    },
    {
     "data": {
      "image/png": "[encoded data removed]",
      "text/plain": [
       "<Figure size 640x480 with 1 Axes>"
      ]
     },
     "metadata": {},
     "output_type": "display_data"
    }
   ],
   "source": [
    "import matplotlib.pyplot as plt\n",
    "\n",
    "# Isomer scm and tcm values \n",
    "# from ASE_PLUMED tutorial (https://github.com/Sucerquia/ASE-PLUMED_tutorial)\n",
    "isomers_scm = [0.588, 0.734, 0.75, 0.95]\n",
    "isomers_tcm = [-0.118, 1.318, 0.348, 0.297]\n",
    "\n",
    "data = np.loadtxt(\"COLVAR\", skiprows=1)\n",
    "scm = data[:, 1]\n",
    "tcm = data[:, 2]\n",
    "\n",
    "fig, ax = plt.subplots()\n",
    "\n",
    "ax.plot(scm, tcm, \"o\", color=\"blue\", alpha=0.5, label=\"Trajectory data\") # MD trajectory data\n",
    "ax.plot(isomers_scm, isomers_tcm, \"*\", color=\"red\", label=\"Isomers\")\n",
    "ax.legend()\n",
    "ax.set_xlabel(\"SCM\")\n",
    "ax.set_ylabel(\"TCM\")\n",
    "plt.show()"
   ]
  }
 ],
 "metadata": {
  "kernelspec": {
   "display_name": "Python 3",
   "language": "python",
   "name": "python3"
  },
  "language_info": {
   "codemirror_mode": {
    "name": "ipython",
    "version": 3
   },
   "file_extension": ".py",
   "mimetype": "text/x-python",
   "name": "python",
   "nbconvert_exporter": "python",
   "pygments_lexer": "ipython3",
   "version": "3.12.0"
  }
 },
 "nbformat": 4,
 "nbformat_minor": 2
}
